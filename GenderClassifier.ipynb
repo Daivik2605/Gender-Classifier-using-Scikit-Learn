{
  "nbformat": 4,
  "nbformat_minor": 0,
  "metadata": {
    "colab": {
      "provenance": [],
      "authorship_tag": "ABX9TyPhyOpg+g1eND/qwnH7YmaM"
    },
    "kernelspec": {
      "name": "python3",
      "display_name": "Python 3"
    },
    "language_info": {
      "name": "python"
    }
  },
  "cells": [
    {
      "cell_type": "code",
      "execution_count": 5,
      "metadata": {
        "colab": {
          "base_uri": "https://localhost:8080/"
        },
        "id": "8TKQReDJaaQS",
        "outputId": "f21c929e-487a-4904-cba8-2dcb9cb01b0a"
      },
      "outputs": [
        {
          "output_type": "stream",
          "name": "stdout",
          "text": [
            "Our Prediction of the Gender given the height, weight, andshoe size is/are:  ['female' 'female']\n"
          ]
        }
      ],
      "source": [
        "from sklearn import tree\n",
        "\n",
        "\n",
        "# [height, weight, shoe_size]\n",
        "X = X = [[191, 90, 44], [167, 74, 43], [140, 50, 34], [154, 54, 37], [166, 65, 40], [190, 90, 47], [175, 64, 39], [177, 70, 40], [159, 55, 37], [171, 75, 42], [181, 85, 43]]\n",
        "\n",
        "# Gender\n",
        "Y = ['male', 'male', 'female', 'female', 'male', 'male', 'female', 'female', 'female', 'male', 'male']\n",
        "\n",
        "claf = tree.DecisionTreeClassifier()\n",
        "\n",
        "claf.fit(X, Y)\n",
        "\n",
        "prediction = claf.predict([[190, 70, 43], [165, 70, 30]])\n",
        "\n",
        "print(\"Our Prediction of the Gender given the height, weight, andshoe size is/are: \", prediction)"
      ]
    },
    {
      "cell_type": "code",
      "source": [],
      "metadata": {
        "id": "uaBJUj0ycY0_"
      },
      "execution_count": null,
      "outputs": []
    }
  ]
}